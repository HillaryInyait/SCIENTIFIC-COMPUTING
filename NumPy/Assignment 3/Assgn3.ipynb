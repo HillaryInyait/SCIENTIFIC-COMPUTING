{
 "cells": [
  {
   "cell_type": "code",
   "execution_count": 8,
   "metadata": {},
   "outputs": [],
   "source": [
    "import pandas as pd\n",
    "import numpy as np\n",
    "import matplotlib.pyplot as plt\n",
    "import seaborn as sns\n",
    "\n",
    "df=pd.read_csv(r'C:/Users/hp/Desktop/SC2/nyc-health-hospitals-patient-satisfaction-scores-2009-1.csv')"
   ]
  },
  {
   "cell_type": "code",
   "execution_count": 9,
   "metadata": {},
   "outputs": [
    {
     "data": {
      "text/html": [
       "<div>\n",
       "<style scoped>\n",
       "    .dataframe tbody tr th:only-of-type {\n",
       "        vertical-align: middle;\n",
       "    }\n",
       "\n",
       "    .dataframe tbody tr th {\n",
       "        vertical-align: top;\n",
       "    }\n",
       "\n",
       "    .dataframe thead th {\n",
       "        text-align: right;\n",
       "    }\n",
       "</style>\n",
       "<table border=\"1\" class=\"dataframe\">\n",
       "  <thead>\n",
       "    <tr style=\"text-align: right;\">\n",
       "      <th></th>\n",
       "      <th>Hospital Name</th>\n",
       "      <th>HCAHPS Question</th>\n",
       "      <th>HCAHPS Answer Description</th>\n",
       "      <th>HCAHPS Answer Percent</th>\n",
       "    </tr>\n",
       "  </thead>\n",
       "  <tbody>\n",
       "    <tr>\n",
       "      <th>0</th>\n",
       "      <td>BELLEVUE HOSPITAL CENTER</td>\n",
       "      <td>How often were the patients rooms and bathroom...</td>\n",
       "      <td>Room was \"always\" clean</td>\n",
       "      <td>56.0</td>\n",
       "    </tr>\n",
       "    <tr>\n",
       "      <th>1</th>\n",
       "      <td>CONEY ISLAND HOSPITAL</td>\n",
       "      <td>How often were the patients rooms and bathroom...</td>\n",
       "      <td>Room was \"always\" clean</td>\n",
       "      <td>64.0</td>\n",
       "    </tr>\n",
       "    <tr>\n",
       "      <th>2</th>\n",
       "      <td>ELMHURST HOSPITAL CENTER</td>\n",
       "      <td>How often were the patients rooms and bathroom...</td>\n",
       "      <td>Room was \"always\" clean</td>\n",
       "      <td>NaN</td>\n",
       "    </tr>\n",
       "    <tr>\n",
       "      <th>3</th>\n",
       "      <td>HARLEM HOSPITAL CENTER</td>\n",
       "      <td>How often were the patients rooms and bathroom...</td>\n",
       "      <td>Room was \"always\" clean</td>\n",
       "      <td>61.0</td>\n",
       "    </tr>\n",
       "    <tr>\n",
       "      <th>4</th>\n",
       "      <td>JACOBI MEDICAL CENTER</td>\n",
       "      <td>How often were the patients rooms and bathroom...</td>\n",
       "      <td>Room was \"always\" clean</td>\n",
       "      <td>63.0</td>\n",
       "    </tr>\n",
       "    <tr>\n",
       "      <th>...</th>\n",
       "      <td>...</td>\n",
       "      <td>...</td>\n",
       "      <td>...</td>\n",
       "      <td>...</td>\n",
       "    </tr>\n",
       "    <tr>\n",
       "      <th>105</th>\n",
       "      <td>LINCOLN MEDICAL &amp; MENTAL HEALTH CENTER</td>\n",
       "      <td>Would patients recommend the hospital to frien...</td>\n",
       "      <td>\"YES\", patients would definitely recommend the...</td>\n",
       "      <td>57.0</td>\n",
       "    </tr>\n",
       "    <tr>\n",
       "      <th>106</th>\n",
       "      <td>METROPOLITAN HOSPITAL CENTER</td>\n",
       "      <td>Would patients recommend the hospital to frien...</td>\n",
       "      <td>\"YES\", patients would definitely recommend the...</td>\n",
       "      <td>56.0</td>\n",
       "    </tr>\n",
       "    <tr>\n",
       "      <th>107</th>\n",
       "      <td>NORTH CENTRAL BRONX HOSPITAL</td>\n",
       "      <td>Would patients recommend the hospital to frien...</td>\n",
       "      <td>\"YES\", patients would definitely recommend the...</td>\n",
       "      <td>61.0</td>\n",
       "    </tr>\n",
       "    <tr>\n",
       "      <th>108</th>\n",
       "      <td>QUEENS HOSPITAL CENTER</td>\n",
       "      <td>Would patients recommend the hospital to frien...</td>\n",
       "      <td>\"YES\", patients would definitely recommend the...</td>\n",
       "      <td>71.0</td>\n",
       "    </tr>\n",
       "    <tr>\n",
       "      <th>109</th>\n",
       "      <td>WOODHULL MEDICAL AND MENTAL HEALTH CENTER</td>\n",
       "      <td>Would patients recommend the hospital to frien...</td>\n",
       "      <td>\"YES\", patients would definitely recommend the...</td>\n",
       "      <td>59.0</td>\n",
       "    </tr>\n",
       "  </tbody>\n",
       "</table>\n",
       "<p>110 rows × 4 columns</p>\n",
       "</div>"
      ],
      "text/plain": [
       "                                 Hospital Name  \\\n",
       "0                     BELLEVUE HOSPITAL CENTER   \n",
       "1                        CONEY ISLAND HOSPITAL   \n",
       "2                     ELMHURST HOSPITAL CENTER   \n",
       "3                       HARLEM HOSPITAL CENTER   \n",
       "4                        JACOBI MEDICAL CENTER   \n",
       "..                                         ...   \n",
       "105     LINCOLN MEDICAL & MENTAL HEALTH CENTER   \n",
       "106               METROPOLITAN HOSPITAL CENTER   \n",
       "107               NORTH CENTRAL BRONX HOSPITAL   \n",
       "108                     QUEENS HOSPITAL CENTER   \n",
       "109  WOODHULL MEDICAL AND MENTAL HEALTH CENTER   \n",
       "\n",
       "                                       HCAHPS Question  \\\n",
       "0    How often were the patients rooms and bathroom...   \n",
       "1    How often were the patients rooms and bathroom...   \n",
       "2    How often were the patients rooms and bathroom...   \n",
       "3    How often were the patients rooms and bathroom...   \n",
       "4    How often were the patients rooms and bathroom...   \n",
       "..                                                 ...   \n",
       "105  Would patients recommend the hospital to frien...   \n",
       "106  Would patients recommend the hospital to frien...   \n",
       "107  Would patients recommend the hospital to frien...   \n",
       "108  Would patients recommend the hospital to frien...   \n",
       "109  Would patients recommend the hospital to frien...   \n",
       "\n",
       "                             HCAHPS Answer Description  HCAHPS Answer Percent  \n",
       "0                              Room was \"always\" clean                   56.0  \n",
       "1                              Room was \"always\" clean                   64.0  \n",
       "2                              Room was \"always\" clean                    NaN  \n",
       "3                              Room was \"always\" clean                   61.0  \n",
       "4                              Room was \"always\" clean                   63.0  \n",
       "..                                                 ...                    ...  \n",
       "105  \"YES\", patients would definitely recommend the...                   57.0  \n",
       "106  \"YES\", patients would definitely recommend the...                   56.0  \n",
       "107  \"YES\", patients would definitely recommend the...                   61.0  \n",
       "108  \"YES\", patients would definitely recommend the...                   71.0  \n",
       "109  \"YES\", patients would definitely recommend the...                   59.0  \n",
       "\n",
       "[110 rows x 4 columns]"
      ]
     },
     "execution_count": 9,
     "metadata": {},
     "output_type": "execute_result"
    }
   ],
   "source": [
    "df"
   ]
  },
  {
   "cell_type": "code",
   "execution_count": 10,
   "metadata": {},
   "outputs": [
    {
     "data": {
      "text/plain": [
       "Hospital Name                0\n",
       "HCAHPS Question              0\n",
       "HCAHPS Answer Description    0\n",
       "HCAHPS Answer Percent        1\n",
       "dtype: int64"
      ]
     },
     "execution_count": 10,
     "metadata": {},
     "output_type": "execute_result"
    }
   ],
   "source": [
    "df.isna().sum()"
   ]
  },
  {
   "cell_type": "code",
   "execution_count": 11,
   "metadata": {},
   "outputs": [
    {
     "data": {
      "text/plain": [
       "np.float64(60.69724770642202)"
      ]
     },
     "execution_count": 11,
     "metadata": {},
     "output_type": "execute_result"
    }
   ],
   "source": [
    "df['HCAHPS Answer Percent'].mean()"
   ]
  },
  {
   "cell_type": "code",
   "execution_count": 12,
   "metadata": {},
   "outputs": [],
   "source": [
    "df.fillna(df['HCAHPS Answer Percent'].mean(),inplace=True)"
   ]
  },
  {
   "cell_type": "code",
   "execution_count": 13,
   "metadata": {},
   "outputs": [
    {
     "data": {
      "text/plain": [
       "Hospital Name                0\n",
       "HCAHPS Question              0\n",
       "HCAHPS Answer Description    0\n",
       "HCAHPS Answer Percent        0\n",
       "dtype: int64"
      ]
     },
     "execution_count": 13,
     "metadata": {},
     "output_type": "execute_result"
    }
   ],
   "source": [
    "df.isna().sum()"
   ]
  },
  {
   "cell_type": "code",
   "execution_count": 14,
   "metadata": {},
   "outputs": [
    {
     "data": {
      "text/plain": [
       "np.float64(60.69724770642202)"
      ]
     },
     "execution_count": 14,
     "metadata": {},
     "output_type": "execute_result"
    }
   ],
   "source": [
    "df.iloc[2,3]"
   ]
  },
  {
   "cell_type": "code",
   "execution_count": 15,
   "metadata": {},
   "outputs": [
    {
     "data": {
      "text/plain": [
       "np.float64(60.69724770642202)"
      ]
     },
     "execution_count": 15,
     "metadata": {},
     "output_type": "execute_result"
    }
   ],
   "source": [
    "df['HCAHPS Answer Percent'].mean()"
   ]
  },
  {
   "cell_type": "code",
   "execution_count": 16,
   "metadata": {},
   "outputs": [
    {
     "data": {
      "text/plain": [
       "0    56.0\n",
       "Name: HCAHPS Answer Percent, dtype: float64"
      ]
     },
     "execution_count": 16,
     "metadata": {},
     "output_type": "execute_result"
    }
   ],
   "source": [
    "df['HCAHPS Answer Percent'].mode()"
   ]
  },
  {
   "cell_type": "code",
   "execution_count": 17,
   "metadata": {},
   "outputs": [
    {
     "data": {
      "text/plain": [
       "np.float64(58.0)"
      ]
     },
     "execution_count": 17,
     "metadata": {},
     "output_type": "execute_result"
    }
   ],
   "source": [
    "df['HCAHPS Answer Percent'].median()"
   ]
  },
  {
   "cell_type": "code",
   "execution_count": 18,
   "metadata": {},
   "outputs": [
    {
     "data": {
      "text/plain": [
       "array([[<Axes: title={'center': 'HCAHPS Answer Percent'}>]], dtype=object)"
      ]
     },
     "execution_count": 18,
     "metadata": {},
     "output_type": "execute_result"
    },
    {
     "data": {
      "image/png": "[encoded data removed]",
      "text/plain": [
       "<Figure size 640x480 with 1 Axes>"
      ]
     },
     "metadata": {},
     "output_type": "display_data"
    }
   ],
   "source": [
    "df.hist()"
   ]
  },
  {
   "cell_type": "code",
   "execution_count": 22,
   "metadata": {},
   "outputs": [
    {
     "data": {
      "text/plain": [
       "<Axes: >"
      ]
     },
     "execution_count": 22,
     "metadata": {},
     "output_type": "execute_result"
    },
    {
     "data": {
      "image/png": "[encoded data removed]",
      "text/plain": [
       "<Figure size 640x480 with 1 Axes>"
      ]
     },
     "metadata": {},
     "output_type": "display_data"
    }
   ],
   "source": [
    "sns.scatterplot(data=df)"
   ]
  }
 ],
 "metadata": {
  "kernelspec": {
   "display_name": "Python 3",
   "language": "python",
   "name": "python3"
  },
  "language_info": {
   "codemirror_mode": {
    "name": "ipython",
    "version": 3
   },
   "file_extension": ".py",
   "mimetype": "text/x-python",
   "name": "python",
   "nbconvert_exporter": "python",
   "pygments_lexer": "ipython3",
   "version": "3.13.2"
  }
 },
 "nbformat": 4,
 "nbformat_minor": 2
}
